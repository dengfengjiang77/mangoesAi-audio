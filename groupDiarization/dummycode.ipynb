{
 "cells": [
  {
   "cell_type": "markdown",
   "metadata": {},
   "source": [
    "This code is showing the how we processing the specific video/voice input and output with the specific names of speakers, the steps are as following:\n",
    "- loading embedding model and store the known voice dataset into embedding warehouse\n",
    "- Perform diarization the target video, using pyannote.audio to split and get the slices of voice\n",
    "- calculate the speaker's embeddings and compare it with the known embedding\n",
    "- generate transcribed text and label it with identified speakers"
   ]
  },
  {
   "cell_type": "code",
   "execution_count": null,
   "metadata": {
    "vscode": {
     "languageId": "plaintext"
    }
   },
   "outputs": [],
   "source": [
    "from pyannote.audio.pipelines import PretrainedSpeakerEmbedding\n",
    "import torchaudio\n",
    "import torch\n",
    "import numpy as np\n",
    "\n",
    "# Load pre-trained speaker embedding model\n",
    "embedding_model = PretrainedSpeakerEmbedding(\n",
    "    \"pyannote/embedding\", \n",
    "    device=torch.device(\"cuda\" if torch.cuda.is_available() else \"cpu\")\n",
    ")\n",
    "\n",
    "# Function to compute embeddings\n",
    "def get_speaker_embedding(audio_path):\n",
    "    waveform, sample_rate = torchaudio.load(audio_path)\n",
    "    return embedding_model({'waveform': waveform, 'sample_rate': sample_rate})\n",
    "\n",
    "# Store known speaker embeddings\n",
    "known_speakers = {\n",
    "    \"Ryan\": get_speaker_embedding(\"Ryan.wav\"),\n",
    "    \"Jackie\": get_speaker_embedding(\"Jackie.wav\"),\n",
    "    \"Rebecca\": get_speaker_embedding(\"Rebecca.wav\"),\n",
    "}\n"
   ]
  },
  {
   "cell_type": "markdown",
   "metadata": {},
   "source": [
    "Step2 - Diarization(speaker segmentation)"
   ]
  },
  {
   "cell_type": "code",
   "execution_count": null,
   "metadata": {
    "vscode": {
     "languageId": "plaintext"
    }
   },
   "outputs": [],
   "source": [
    "from pyannote.audio.pipelines import SpeakerDiarization\n",
    "from pyannote.core import Segment\n",
    "import wave\n",
    "\n",
    "# Load diarization model\n",
    "diarization_pipeline = SpeakerDiarization.from_pretrained(\"pyannote/speaker-diarization\")\n",
    "\n",
    "# Process the target video/audio file\n",
    "audio_file = \"target_video_audio.wav\"\n",
    "diarization_result = diarization_pipeline(audio_file)\n",
    "\n",
    "# Extract speaker-wise audio segments\n",
    "speaker_segments = []\n",
    "for turn, _, speaker in diarization_result.itertracks(yield_label=True):\n",
    "    speaker_segments.append({\n",
    "        \"speaker\": speaker,\n",
    "        \"start\": turn.start,\n",
    "        \"end\": turn.end\n",
    "    })\n",
    "\n",
    "# Save individual speaker segments as separate audio files\n",
    "import torchaudio\n",
    "\n",
    "def extract_audio_segment(input_audio, start_time, end_time, output_file):\n",
    "    waveform, sample_rate = torchaudio.load(input_audio)\n",
    "    start_sample = int(start_time * sample_rate)\n",
    "    end_sample = int(end_time * sample_rate)\n",
    "    torchaudio.save(output_file, waveform[:, start_sample:end_sample], sample_rate)\n",
    "\n",
    "# Save each diarized segment for speaker identification\n",
    "for idx, segment in enumerate(speaker_segments):\n",
    "    output_path = f\"speaker_segment_{idx}.wav\"\n",
    "    extract_audio_segment(audio_file, segment[\"start\"], segment[\"end\"], output_path)\n",
    "    segment[\"audio_path\"] = output_path  # Store the extracted file path\n"
   ]
  }
 ],
 "metadata": {
  "language_info": {
   "name": "python"
  }
 },
 "nbformat": 4,
 "nbformat_minor": 2
}

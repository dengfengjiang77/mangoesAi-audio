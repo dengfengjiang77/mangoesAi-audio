{
 "cells": [
  {
   "cell_type": "markdown",
   "metadata": {},
   "source": [
    "Realtime code\n"
   ]
  },
  {
   "cell_type": "code",
   "execution_count": 1,
   "metadata": {},
   "outputs": [
    {
     "name": "stderr",
     "output_type": "stream",
     "text": [
      "Using a slow image processor as `use_fast` is unset and a slow processor was saved with this model. `use_fast=True` will be the default behavior in v4.48, even if the model was saved with a slow processor. This will result in minor differences in outputs. You'll still be able to use a slow processor with `use_fast=False`.\n"
     ]
    },
    {
     "name": "stdout",
     "output_type": "stream",
     "text": [
      "Listening for wake word 'Hey ZZX'...\n",
      "Silent audio detected. Skipping.\n",
      "Silent audio detected. Skipping.\n",
      "Detected label: Hey ZZX\n",
      "Wake word 'Hey ZZX' detected!\n",
      "Welcome, ZZX, what can I do for you?\n"
     ]
    }
   ],
   "source": [
    "import pyaudio\n",
    "import numpy as np\n",
    "import torch\n",
    "from transformers import AutoProcessor, AutoModelForAudioClassification\n",
    "\n",
    "# 加载微调的音频分类模型和处理器\n",
    "model_path = \"/Users/7one/Documents/Work/mangoesai/livekit_paddle/heyzzx2\"\n",
    "processor = AutoProcessor.from_pretrained(model_path)\n",
    "model = AutoModelForAudioClassification.from_pretrained(model_path)\n",
    "model.eval()\n",
    "\n",
    "# 音频参数\n",
    "sample_rate = 16000  # 模型需要的采核率\n",
    "chunk_size = 16000   # 每次捕获 1 秒的音频（16000 个样本）\n",
    "silence_threshold = 0.01  # 静音检测阀值\n",
    "\n",
    "# 初始化 PyAudio\n",
    "p = pyaudio.PyAudio()\n",
    "stream = p.open(format=pyaudio.paInt16,\n",
    "                channels=1,\n",
    "                rate=sample_rate,\n",
    "                input=True,\n",
    "                frames_per_buffer=chunk_size)\n",
    "\n",
    "def classify_audio(audio_array):\n",
    "    \"\"\"\n",
    "    使用微调的分类模型检测音频\n",
    "    Args:\n",
    "        audio_array (np.ndarray): 音频数据（单声道，16kHz）\n",
    "    Returns:\n",
    "        str: 分类结果的标签\n",
    "    \"\"\"\n",
    "    # 预处理音频\n",
    "    inputs = processor(audio_array, sampling_rate=sample_rate, return_tensors=\"pt\", padding=True)\n",
    "    with torch.no_grad():\n",
    "        logits = model(**inputs).logits\n",
    "    predicted_label = torch.argmax(logits, dim=1).item()\n",
    "    return model.config.id2label[predicted_label]\n",
    "\n",
    "def is_silent(audio_array):\n",
    "    \"\"\"\n",
    "    判断音频是否为静音\n",
    "    Args:\n",
    "        audio_array (np.ndarray): 音频数据\n",
    "    Returns:\n",
    "        bool: 是否为静音\n",
    "    \"\"\"\n",
    "    return np.max(np.abs(audio_array)) < silence_threshold\n",
    "\n",
    "print(\"Listening for wake word 'Hey ZZX'...\")\n",
    "\n",
    "try:\n",
    "    while True:\n",
    "        # 捕获音频数据\n",
    "        raw_audio = stream.read(chunk_size, exception_on_overflow=False)\n",
    "        audio_array = np.frombuffer(raw_audio, dtype=np.int16).astype(np.float32) / 32768.0\n",
    "\n",
    "        # 跳过静音片段\n",
    "        if is_silent(audio_array):\n",
    "            print(\"Silent audio detected. Skipping.\")\n",
    "            continue\n",
    "\n",
    "        # 使用分类模型检测音频\n",
    "        predicted_label = classify_audio(audio_array)\n",
    "        print(f\"Detected label: {predicted_label}\")\n",
    "\n",
    "        # 检查是否为唤醒词\n",
    "        if predicted_label.lower() == \"hey zzx\":\n",
    "            print(\"Wake word 'Hey ZZX' detected!\")\n",
    "            print(\"Welcome, ZZX, what can I do for you?\")\n",
    "            break\n",
    "\n",
    "except KeyboardInterrupt:\n",
    "    print(\"Stopping...\")\n",
    "\n",
    "finally:\n",
    "    # 关闭音频流\n",
    "    stream.stop_stream()\n",
    "    stream.close()\n",
    "    p.terminate()\n"
   ]
  },
  {
   "cell_type": "code",
   "execution_count": null,
   "metadata": {},
   "outputs": [],
   "source": []
  }
 ],
 "metadata": {
  "kernelspec": {
   "display_name": "Python 3",
   "language": "python",
   "name": "python3"
  },
  "language_info": {
   "codemirror_mode": {
    "name": "ipython",
    "version": 3
   },
   "file_extension": ".py",
   "mimetype": "text/x-python",
   "name": "python",
   "nbconvert_exporter": "python",
   "pygments_lexer": "ipython3",
   "version": "3.11.5"
  }
 },
 "nbformat": 4,
 "nbformat_minor": 2
}
